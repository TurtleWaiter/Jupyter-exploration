{
 "cells": [
  {
   "cell_type": "markdown",
   "id": "190e77b3-006c-43dd-bb33-0c52e49f99a4",
   "metadata": {},
   "source": [
    "This my first markdown cell in jupyter"
   ]
  },
  {
   "cell_type": "code",
   "execution_count": 1,
   "id": "f6b9fbaf-6282-4927-b9ef-9041007bb2f1",
   "metadata": {},
   "outputs": [
    {
     "name": "stdout",
     "output_type": "stream",
     "text": [
      "Hello World!!!. Here my first code in jupyter.\n"
     ]
    }
   ],
   "source": [
    "print(\"Hello World!!!. Here my first code in jupyter.\")"
   ]
  }
 ],
 "metadata": {
  "kernelspec": {
   "display_name": "Python 3 (ipykernel)",
   "language": "python",
   "name": "python3"
  },
  "language_info": {
   "codemirror_mode": {
    "name": "ipython",
    "version": 3
   },
   "file_extension": ".py",
   "mimetype": "text/x-python",
   "name": "python",
   "nbconvert_exporter": "python",
   "pygments_lexer": "ipython3",
   "version": "3.12.6"
  }
 },
 "nbformat": 4,
 "nbformat_minor": 5
}
